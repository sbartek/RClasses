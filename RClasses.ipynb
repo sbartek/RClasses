{
 "cells": [
  {
   "cell_type": "markdown",
   "metadata": {},
   "source": [
    "# Object Oriented Programming in R"
   ]
  },
  {
   "cell_type": "markdown",
   "metadata": {},
   "source": [
    "## Environments as objects\n",
    "\n",
    "Inspired by RC, R6 and _proto_ classes (objects) we present how we can define our own object/class system. \n",
    "\n",
    "We start by defining objects. For that we use standard R environment. "
   ]
  },
  {
   "cell_type": "code",
   "execution_count": 1,
   "metadata": {
    "collapsed": false
   },
   "outputs": [
    {
     "name": "stdout",
     "output_type": "stream",
     "text": [
      "[1] 1\n",
      "[1] 2\n",
      "x :  num 1\n",
      "y :  num 2\n"
     ]
    }
   ],
   "source": [
    "objectCreator = function(vars=list()) {\n",
    "    envir = new.env()\n",
    "    for (vn in names(vars)) {\n",
    "        assign(vn, vars[[vn]], envir = envir)\n",
    "        ## Alternative way\n",
    "        ## env[[vn]] <- vars[[vn]]\n",
    "    }\n",
    "    envir\n",
    "}\n",
    "\n",
    "complexNum <- objectCreator(\n",
    "    vars=list(\n",
    "        x=1, \n",
    "        y=2\n",
    "    )\n",
    ")\n",
    "\n",
    "print(complexNum$x)\n",
    "print(complexNum$y)\n",
    "\n",
    "print(ls.str(complexNum))\n"
   ]
  },
  {
   "cell_type": "markdown",
   "metadata": {},
   "source": [
    "### Adding Methods\n",
    "\n",
    "What we have done so far could be easyly achived by using list. But if we wnat to have methods, is where environment comes handy. Lets try."
   ]
  },
  {
   "cell_type": "code",
   "execution_count": 2,
   "metadata": {
    "collapsed": false
   },
   "outputs": [
    {
     "ename": "ERROR",
     "evalue": "Error in cn$re(): object 'x' not found\n",
     "output_type": "error",
     "traceback": [
      "Error in cn$re(): object 'x' not found\n"
     ]
    }
   ],
   "source": [
    "cn <- objectCreator(\n",
    "    vars=list(\n",
    "        x=1, \n",
    "        y=2,\n",
    "        re=function() {\n",
    "            # This won't work\n",
    "            x\n",
    "        }\n",
    "    )\n",
    ")\n",
    "\n",
    "print(cn$re())"
   ]
  },
  {
   "cell_type": "markdown",
   "metadata": {},
   "source": [
    "The problem is the environment of this function. "
   ]
  },
  {
   "cell_type": "code",
   "execution_count": 3,
   "metadata": {
    "collapsed": false
   },
   "outputs": [
    {
     "name": "stdout",
     "output_type": "stream",
     "text": [
      "<environment: R_GlobalEnv>\n"
     ]
    }
   ],
   "source": [
    "print(environment(cn$re))"
   ]
  },
  {
   "cell_type": "markdown",
   "metadata": {},
   "source": [
    "So let assigin to environment of the function the environment of the object."
   ]
  },
  {
   "cell_type": "code",
   "execution_count": 4,
   "metadata": {
    "collapsed": false
   },
   "outputs": [
    {
     "name": "stdout",
     "output_type": "stream",
     "text": [
      "[1] 1\n"
     ]
    }
   ],
   "source": [
    "objectCreator = function(vars=list()) {\n",
    "    envir = new.env()\n",
    "    for (vn in names(vars)) {\n",
    "        envir[[vn]] <- vars[[vn]]\n",
    "        if (is.function(envir[[vn]])) {\n",
    "          environment(envir[[vn]]) <- envir\n",
    "        }\n",
    "    }\n",
    "    envir\n",
    "}\n",
    "\n",
    "cn <- objectCreator(\n",
    "    vars=list(\n",
    "        x=1, \n",
    "        y=2,\n",
    "        re=function() {\n",
    "            x\n",
    "        }\n",
    "    )\n",
    ")\n",
    "\n",
    "print(cn$re())\n"
   ]
  },
  {
   "cell_type": "markdown",
   "metadata": {},
   "source": [
    "This was a getter. Now time of setting an x. Let's project out complex number to x asis."
   ]
  },
  {
   "cell_type": "code",
   "execution_count": 5,
   "metadata": {
    "collapsed": false
   },
   "outputs": [
    {
     "name": "stdout",
     "output_type": "stream",
     "text": [
      "[1] 2\n"
     ]
    }
   ],
   "source": [
    "cn <- objectCreator(\n",
    "    vars=list(\n",
    "        x=1, \n",
    "        y=2,\n",
    "        projectX=function() {\n",
    "            # This won't work\n",
    "            y <- 0\n",
    "        }\n",
    "    )\n",
    ")\n",
    "\n",
    "cn$projectX()\n",
    "print(cn$y)"
   ]
  },
  {
   "cell_type": "code",
   "execution_count": 6,
   "metadata": {
    "collapsed": false
   },
   "outputs": [
    {
     "name": "stdout",
     "output_type": "stream",
     "text": [
      "<environment: 0x3889500>\n",
      "<environment: 0x4099990>\n",
      "<environment: 0x4099990>\n"
     ]
    }
   ],
   "source": [
    "cn <- objectCreator(\n",
    "    vars=list(\n",
    "        x=1, \n",
    "        y=2,\n",
    "        projectX=function() {\n",
    "            # This won't work\n",
    "            y <- 0\n",
    "            environment()\n",
    "        }\n",
    "    )\n",
    ")\n",
    "\n",
    "env <- cn$projectX()\n",
    "print(env)\n",
    "print(parent.env(env))\n",
    "print(cn)"
   ]
  },
  {
   "cell_type": "code",
   "execution_count": 7,
   "metadata": {
    "collapsed": false
   },
   "outputs": [
    {
     "name": "stdout",
     "output_type": "stream",
     "text": [
      "[1] 0\n"
     ]
    }
   ],
   "source": [
    "cn <- objectCreator(\n",
    "    vars=list(\n",
    "        x=1, \n",
    "        y=2,\n",
    "        projectX=function() {\n",
    "            y <<- 0\n",
    "        }\n",
    "    )\n",
    ")\n",
    "cn$projectX()\n",
    "print(cn$y)"
   ]
  },
  {
   "cell_type": "markdown",
   "metadata": {},
   "source": [
    "## Clasess\n",
    "\n",
    "Now it is time for classes. Class is a set of objects that share the same attributes and method. Something like:\n",
    "Class of complex number is a set of _things_ that have an attribute _x_, _y_, and method _re_, _im_ etc......\n",
    "\n",
    "In order to implement it we need two functions. First a _function_ that transform a recipe into a function that later can produce for us objects that agree with this recipe (instances of this class)."
   ]
  },
  {
   "cell_type": "code",
   "execution_count": 8,
   "metadata": {
    "collapsed": true
   },
   "outputs": [],
   "source": [
    "classGenerator <- function(ClassList) {\n",
    "    function() objectCreator(vars=ClassList)\n",
    "}"
   ]
  },
  {
   "cell_type": "markdown",
   "metadata": {},
   "source": [
    "And that is it. Let's see it in action."
   ]
  },
  {
   "cell_type": "code",
   "execution_count": 9,
   "metadata": {
    "collapsed": false
   },
   "outputs": [
    {
     "name": "stdout",
     "output_type": "stream",
     "text": [
      "[1] 0\n",
      "[1] 0\n"
     ]
    }
   ],
   "source": [
    "ComplexNumber <- list(\n",
    "    x=0,\n",
    "    y=0\n",
    ")\n",
    "   \n",
    "cn1 <- classGenerator(ComplexNumber)()\n",
    "cn2 <- classGenerator(ComplexNumber)()\n",
    "print(cn1$x)\n",
    "print(cn2$x)"
   ]
  },
  {
   "cell_type": "markdown",
   "metadata": {},
   "source": [
    "### RefClass"
   ]
  },
  {
   "cell_type": "markdown",
   "metadata": {},
   "source": [
    "That was a bit silly. So let's how we construct objects using RefClass that generate objects that have a attribue being a data.table (we suppose that it contains a column dt (for datatame and metric)). Also method dt that return first column and metric, that returns the second."
   ]
  },
  {
   "cell_type": "code",
   "execution_count": 10,
   "metadata": {
    "collapsed": false
   },
   "outputs": [
    {
     "data": {
      "text/html": [
       "<ol class=list-inline>\n",
       "\t<li>'2015-10-01'</li>\n",
       "\t<li>'2015-10-02'</li>\n",
       "</ol>\n"
      ],
      "text/latex": [
       "\\begin{enumerate*}\n",
       "\\item '2015-10-01'\n",
       "\\item '2015-10-02'\n",
       "\\end{enumerate*}\n"
      ],
      "text/markdown": [
       "1. '2015-10-01'\n",
       "2. '2015-10-02'\n",
       "\n",
       "\n"
      ],
      "text/plain": [
       "[1] \"2015-10-01\" \"2015-10-02\""
      ]
     },
     "execution_count": 10,
     "metadata": {},
     "output_type": "execute_result"
    },
    {
     "data": {
      "text/html": [
       "<ol class=list-inline>\n",
       "\t<li>10</li>\n",
       "\t<li>20</li>\n",
       "</ol>\n"
      ],
      "text/latex": [
       "\\begin{enumerate*}\n",
       "\\item 10\n",
       "\\item 20\n",
       "\\end{enumerate*}\n"
      ],
      "text/markdown": [
       "1. 10\n",
       "2. 20\n",
       "\n",
       "\n"
      ],
      "text/plain": [
       "[1] 10 20"
      ]
     },
     "execution_count": 10,
     "metadata": {},
     "output_type": "execute_result"
    },
    {
     "data": {
      "text/html": [
       "'XXX'"
      ],
      "text/latex": [
       "'XXX'"
      ],
      "text/markdown": [
       "'XXX'"
      ],
      "text/plain": [
       "[1] \"XXX\"\n",
       "attr(,\"package\")\n",
       "[1] \".GlobalEnv\""
      ]
     },
     "execution_count": 10,
     "metadata": {},
     "output_type": "execute_result"
    }
   ],
   "source": [
    "library('data.table')\n",
    "\n",
    "TimeSeries <- setRefClass(\n",
    "    \"XXX\",\n",
    "    fields=list(\n",
    "        dataTable=\"data.table\"\n",
    "    ),\n",
    "    methods=list(\n",
    "        initialize=function(dataTable=data.table()) {\n",
    "            dataTable <<- dataTable\n",
    "        },\n",
    "        dt=function() dataTable[, dt],\n",
    "        metric=function() dataTable[, metric]\n",
    "    )\n",
    ")\n",
    "            \n",
    "\n",
    "timeSeries <- TimeSeries$new(data.table(dt=c(\"2015-10-01\", \"2015-10-02\"), metric=c(10, 20)))\n",
    "timeSeries$dt()\n",
    "timeSeries$metric()\n",
    "class(timeSeries)"
   ]
  },
  {
   "cell_type": "markdown",
   "metadata": {},
   "source": [
    "So let implement this. We change the name of setRefClass into setRClass."
   ]
  },
  {
   "cell_type": "code",
   "execution_count": 11,
   "metadata": {
    "collapsed": false
   },
   "outputs": [
    {
     "name": "stdout",
     "output_type": "stream",
     "text": [
      "           dt metric\n",
      "1: 2015-10-01     10\n",
      "2: 2015-10-02     20\n"
     ]
    },
    {
     "data": {
      "text/html": [
       "<table>\n",
       "<thead><tr><th></th><th scope=col>dt</th><th scope=col>metric</th></tr></thead>\n",
       "<tbody>\n",
       "\t<tr><th scope=row>1</th><td>2015-10-01</td><td>10</td></tr>\n",
       "\t<tr><th scope=row>2</th><td>2015-10-02</td><td>20</td></tr>\n",
       "</tbody>\n",
       "</table>\n"
      ],
      "text/latex": [
       "\\begin{tabular}{r|ll}\n",
       "  & dt & metric\\\\\n",
       "\\hline\n",
       "\t1 & 2015-10-01 & 10\\\\\n",
       "\t2 & 2015-10-02 & 20\\\\\n",
       "\\end{tabular}\n"
      ],
      "text/plain": [
       "           dt metric\n",
       "1: 2015-10-01     10\n",
       "2: 2015-10-02     20"
      ]
     },
     "execution_count": 11,
     "metadata": {},
     "output_type": "execute_result"
    },
    {
     "data": {
      "text/html": [
       "<ol class=list-inline>\n",
       "\t<li>'2015-10-01'</li>\n",
       "\t<li>'2015-10-02'</li>\n",
       "</ol>\n"
      ],
      "text/latex": [
       "\\begin{enumerate*}\n",
       "\\item '2015-10-01'\n",
       "\\item '2015-10-02'\n",
       "\\end{enumerate*}\n"
      ],
      "text/markdown": [
       "1. '2015-10-01'\n",
       "2. '2015-10-02'\n",
       "\n",
       "\n"
      ],
      "text/plain": [
       "[1] \"2015-10-01\" \"2015-10-02\""
      ]
     },
     "execution_count": 11,
     "metadata": {},
     "output_type": "execute_result"
    },
    {
     "data": {
      "text/html": [
       "<ol class=list-inline>\n",
       "\t<li>10</li>\n",
       "\t<li>20</li>\n",
       "</ol>\n"
      ],
      "text/latex": [
       "\\begin{enumerate*}\n",
       "\\item 10\n",
       "\\item 20\n",
       "\\end{enumerate*}\n"
      ],
      "text/markdown": [
       "1. 10\n",
       "2. 20\n",
       "\n",
       "\n"
      ],
      "text/plain": [
       "[1] 10 20"
      ]
     },
     "execution_count": 11,
     "metadata": {},
     "output_type": "execute_result"
    },
    {
     "data": {
      "text/html": [
       "'XXX'"
      ],
      "text/latex": [
       "'XXX'"
      ],
      "text/markdown": [
       "'XXX'"
      ],
      "text/plain": [
       "[1] \"XXX\""
      ]
     },
     "execution_count": 11,
     "metadata": {},
     "output_type": "execute_result"
    }
   ],
   "source": [
    "setRClass <- function(\n",
    "    newClassName, \n",
    "    fields=list(),\n",
    "    methods=list()\n",
    ") {    \n",
    "    objectVars <- c(fields, methods)\n",
    "    newClassName <- newClassName\n",
    "    classVars <- list(\n",
    "        newClassName=newClassName,\n",
    "        objectVars=objectVars,\n",
    "        new=function(...) {\n",
    "            newObject <- objectCreator(objectVars)\n",
    "            if (\"initialize\" %in% names(objectVars)) {\n",
    "                newObject$initialize(...)\n",
    "                newObject$initialize <- NULL\n",
    "            }\n",
    "            class(newObject) <- newClassName\n",
    "            newObject\n",
    "        }\n",
    "    )\n",
    "    objectCreator(classVars) \n",
    "}\n",
    "\n",
    "TimeSeries <- setRClass(\n",
    "    \"XXX\",\n",
    "    fields=list(\n",
    "        dataTable=\"data.table\"\n",
    "    ),\n",
    "    methods=list(\n",
    "        initialize=function(dataTable=data.table()) {\n",
    "            print(dataTable)\n",
    "            dataTable <<- dataTable\n",
    "        },\n",
    "        dt=function() dataTable[, dt],\n",
    "        metric=function() dataTable[, metric]\n",
    "    )\n",
    ")\n",
    "\n",
    "dt1 <- data.table(dt=c(\"2015-10-01\", \"2015-10-02\"), metric=c(10, 20))\n",
    "timeSeries <- TimeSeries$new(dt1)\n",
    "timeSeries$dataTable\n",
    "timeSeries$dt()\n",
    "timeSeries$metric()\n",
    "class(timeSeries)"
   ]
  },
  {
   "cell_type": "markdown",
   "metadata": {},
   "source": [
    "There are few differences ..."
   ]
  },
  {
   "cell_type": "markdown",
   "metadata": {},
   "source": [
    "## Metaprogramming"
   ]
  },
  {
   "cell_type": "markdown",
   "metadata": {},
   "source": [
    "### Adding methods to existing class"
   ]
  },
  {
   "cell_type": "code",
   "execution_count": 12,
   "metadata": {
    "collapsed": false
   },
   "outputs": [
    {
     "ename": "ERROR",
     "evalue": "Error in eval(expr, envir, enclos): attempt to apply non-function\n",
     "output_type": "error",
     "traceback": [
      "Error in eval(expr, envir, enclos): attempt to apply non-function\n"
     ]
    }
   ],
   "source": [
    "EmptyClass <- R6::R6Class()\n",
    "EmptyClass$new()$newMethod()"
   ]
  },
  {
   "cell_type": "code",
   "execution_count": 13,
   "metadata": {
    "collapsed": false
   },
   "outputs": [
    {
     "data": {
      "text/plain": [
       "NULL"
      ]
     },
     "execution_count": 13,
     "metadata": {},
     "output_type": "execute_result"
    },
    {
     "data": {
      "text/html": [
       "1000"
      ],
      "text/latex": [
       "1000"
      ],
      "text/markdown": [
       "1000"
      ],
      "text/plain": [
       "[1] 1000"
      ]
     },
     "execution_count": 13,
     "metadata": {},
     "output_type": "execute_result"
    }
   ],
   "source": [
    "EmptyClass$private_fields\n",
    "EmptyClass$set(\"public\", \"newMethod\", function() 1000)\n",
    "EmptyClass$new()$newMethod()"
   ]
  },
  {
   "cell_type": "markdown",
   "metadata": {},
   "source": [
    "### Call method dynamically"
   ]
  },
  {
   "cell_type": "code",
   "execution_count": 14,
   "metadata": {
    "collapsed": false
   },
   "outputs": [
    {
     "data": {
      "text/html": [
       "<ol class=list-inline>\n",
       "\t<li>1</li>\n",
       "\t<li>2</li>\n",
       "\t<li>3</li>\n",
       "\t<li>4</li>\n",
       "\t<li>5</li>\n",
       "\t<li>6</li>\n",
       "\t<li>7</li>\n",
       "\t<li>8</li>\n",
       "\t<li>9</li>\n",
       "\t<li>10</li>\n",
       "</ol>\n"
      ],
      "text/latex": [
       "\\begin{enumerate*}\n",
       "\\item 1\n",
       "\\item 2\n",
       "\\item 3\n",
       "\\item 4\n",
       "\\item 5\n",
       "\\item 6\n",
       "\\item 7\n",
       "\\item 8\n",
       "\\item 9\n",
       "\\item 10\n",
       "\\end{enumerate*}\n"
      ],
      "text/markdown": [
       "1. 1\n",
       "2. 2\n",
       "3. 3\n",
       "4. 4\n",
       "5. 5\n",
       "6. 6\n",
       "7. 7\n",
       "8. 8\n",
       "9. 9\n",
       "10. 10\n",
       "\n",
       "\n"
      ],
      "text/plain": [
       " [1]  1  2  3  4  5  6  7  8  9 10"
      ]
     },
     "execution_count": 14,
     "metadata": {},
     "output_type": "execute_result"
    },
    {
     "data": {
      "text/html": [
       "<ol class=list-inline>\n",
       "\t<li>1</li>\n",
       "\t<li>2</li>\n",
       "\t<li>3</li>\n",
       "\t<li>4</li>\n",
       "\t<li>5</li>\n",
       "\t<li>6</li>\n",
       "\t<li>7</li>\n",
       "\t<li>8</li>\n",
       "\t<li>9</li>\n",
       "\t<li>10</li>\n",
       "</ol>\n"
      ],
      "text/latex": [
       "\\begin{enumerate*}\n",
       "\\item 1\n",
       "\\item 2\n",
       "\\item 3\n",
       "\\item 4\n",
       "\\item 5\n",
       "\\item 6\n",
       "\\item 7\n",
       "\\item 8\n",
       "\\item 9\n",
       "\\item 10\n",
       "\\end{enumerate*}\n"
      ],
      "text/markdown": [
       "1. 1\n",
       "2. 2\n",
       "3. 3\n",
       "4. 4\n",
       "5. 5\n",
       "6. 6\n",
       "7. 7\n",
       "8. 8\n",
       "9. 9\n",
       "10. 10\n",
       "\n",
       "\n"
      ],
      "text/plain": [
       " [1]  1  2  3  4  5  6  7  8  9 10"
      ]
     },
     "execution_count": 14,
     "metadata": {},
     "output_type": "execute_result"
    }
   ],
   "source": [
    "library('R6')\n",
    "library('data.table')\n",
    "\n",
    "DataTable <- R6Class(\n",
    "    lock_objects=FALSE,\n",
    "    public=list(\n",
    "        dataTable=NULL,\n",
    "        initialize=function(dataTable) {\n",
    "            self$dataTable <- dataTable\n",
    "        },\n",
    "        ids=function() self$dataTable[, id],\n",
    "        dates=function() self$dataTable[, date]\n",
    "    )\n",
    ")\n",
    "dt <- data.table(id=1:10, date=seq(as.Date(\"2015-10-01\"), as.Date(\"2015-10-10\"), \"day\"))\n",
    "            \n",
    "dt1 <- DataTable$new(dt)\n",
    "dt1$ids()\n",
    "method_to_call <- \"ids\"\n",
    "dt1[[method_to_call]]()\n"
   ]
  },
  {
   "cell_type": "markdown",
   "metadata": {},
   "source": [
    "### Modifying $ and introducing method_missing"
   ]
  },
  {
   "cell_type": "markdown",
   "metadata": {},
   "source": [
    "#### S3 method dispach reload"
   ]
  },
  {
   "cell_type": "markdown",
   "metadata": {},
   "source": [
    "Let's first learn how to modify $"
   ]
  },
  {
   "cell_type": "code",
   "execution_count": 15,
   "metadata": {
    "collapsed": false
   },
   "outputs": [
    {
     "data": {
      "text/html": [
       "1"
      ],
      "text/latex": [
       "1"
      ],
      "text/markdown": [
       "1"
      ],
      "text/plain": [
       "[1] 1"
      ]
     },
     "execution_count": 15,
     "metadata": {},
     "output_type": "execute_result"
    },
    {
     "data": {
      "text/html": [
       "'alwaysAddsOne'"
      ],
      "text/latex": [
       "'alwaysAddsOne'"
      ],
      "text/markdown": [
       "'alwaysAddsOne'"
      ],
      "text/plain": [
       "[1] \"alwaysAddsOne\""
      ]
     },
     "execution_count": 15,
     "metadata": {},
     "output_type": "execute_result"
    },
    {
     "name": "stdout",
     "output_type": "stream",
     "text": [
      "[1] 2\n",
      "[1] 101\n"
     ]
    },
    {
     "data": {
      "text/html": [
       "\"I'm a loser baby\""
      ],
      "text/latex": [
       "\"I'm a loser baby\""
      ],
      "text/markdown": [
       "\"I'm a loser baby\""
      ],
      "text/plain": [
       "[1] \"I'm a loser baby\""
      ]
     },
     "execution_count": 15,
     "metadata": {},
     "output_type": "execute_result"
    },
    {
     "data": {
      "text/html": [
       "\"I'm a loser baby\""
      ],
      "text/latex": [
       "\"I'm a loser baby\""
      ],
      "text/markdown": [
       "\"I'm a loser baby\""
      ],
      "text/plain": [
       "[1] \"I'm a loser baby\""
      ]
     },
     "execution_count": 15,
     "metadata": {},
     "output_type": "execute_result"
    }
   ],
   "source": [
    "t <- new.env()\n",
    "t$a <- 1\n",
    "t$a\n",
    "\n",
    "class(t) <- \"alwaysAddsOne\"\n",
    "class(t)\n",
    " \n",
    "\"$.alwaysAddsOne\" <- function(t, name) {\n",
    "    get(name, envir = t) + 1\n",
    "}\n",
    "\n",
    "print(t$a)\n",
    "t$b <- 100\n",
    "print(t$b)\n",
    "\n",
    "t2 <- new.env()\n",
    "class(t2) <- \"useless\"\n",
    "cname <- \"$.useless\"\n",
    "assign(cname,  function(t, name) {\n",
    "    \"I'm a loser baby\"\n",
    "})\n",
    "t2$loser\n",
    "t2$winner\n",
    "\n"
   ]
  },
  {
   "cell_type": "markdown",
   "metadata": {},
   "source": [
    "Inherence:"
   ]
  },
  {
   "cell_type": "code",
   "execution_count": 16,
   "metadata": {
    "collapsed": false
   },
   "outputs": [
    {
     "name": "stdout",
     "output_type": "stream",
     "text": [
      "[1] \"useful\"  \"useless\"\n"
     ]
    },
    {
     "data": {
      "text/html": [
       "\"I'm a loser baby\""
      ],
      "text/latex": [
       "\"I'm a loser baby\""
      ],
      "text/markdown": [
       "\"I'm a loser baby\""
      ],
      "text/plain": [
       "[1] \"I'm a loser baby\""
      ]
     },
     "execution_count": 16,
     "metadata": {},
     "output_type": "execute_result"
    },
    {
     "name": "stdout",
     "output_type": "stream",
     "text": [
      "[1] \"I'm a loser baby, so why don't you kill me?\"\n"
     ]
    }
   ],
   "source": [
    "class(t2) <- c(\"useful\", class(t2))\n",
    "print(class(t2))\n",
    "t2$winner\n",
    "\n",
    "cname <- \"$.useful\"\n",
    "assign(cname,  function(t, name) {\n",
    "    messageOut <- `$.useless`(t, name)\n",
    "    if (name == \"winner\") {\n",
    "        messageOut <- paste0(messageOut, \", so why don't you kill me?\")\n",
    "        \n",
    "    }\n",
    "    messageOut\n",
    "})\n",
    "\n",
    "print(t2$winner)\n"
   ]
  },
  {
   "cell_type": "markdown",
   "metadata": {},
   "source": [
    "#### Dynamically created methods"
   ]
  },
  {
   "cell_type": "code",
   "execution_count": 18,
   "metadata": {
    "collapsed": false
   },
   "outputs": [
    {
     "name": "stdout",
     "output_type": "stream",
     "text": [
      "    id       date somethingElse\n",
      " 1:  1 2015-10-01            21\n",
      " 2:  2 2015-10-02            22\n",
      " 3:  3 2015-10-03            23\n",
      " 4:  4 2015-10-04            24\n",
      " 5:  5 2015-10-05            25\n",
      " 6:  6 2015-10-06            26\n",
      " 7:  7 2015-10-07            27\n",
      " 8:  8 2015-10-08            28\n",
      " 9:  9 2015-10-09            29\n",
      "10: 10 2015-10-10            30\n"
     ]
    },
    {
     "data": {
      "text/html": [
       "<ol class=list-inline>\n",
       "\t<li>'DataTableOne'</li>\n",
       "\t<li>'R6'</li>\n",
       "</ol>\n"
      ],
      "text/latex": [
       "\\begin{enumerate*}\n",
       "\\item 'DataTableOne'\n",
       "\\item 'R6'\n",
       "\\end{enumerate*}\n"
      ],
      "text/markdown": [
       "1. 'DataTableOne'\n",
       "2. 'R6'\n",
       "\n",
       "\n"
      ],
      "text/plain": [
       "[1] \"DataTableOne\" \"R6\"          "
      ]
     },
     "execution_count": 18,
     "metadata": {},
     "output_type": "execute_result"
    },
    {
     "name": "stdout",
     "output_type": "stream",
     "text": [
      "[1] \"clone\"         \"dataTable\"     \"initialize\"    \"somethingElse\"\n",
      "    id\n",
      " 1:  1\n",
      " 2:  2\n",
      " 3:  3\n",
      " 4:  4\n",
      " 5:  5\n",
      " 6:  6\n",
      " 7:  7\n",
      " 8:  8\n",
      " 9:  9\n",
      "10: 10\n",
      "function() {\"Hola!\"}\n",
      "<environment: 0x46696c8>\n",
      "[1] \"Hola!\"\n"
     ]
    }
   ],
   "source": [
    "DataTable <- R6Class(\n",
    "    \"DataTableOne\",\n",
    "    lock_objects=FALSE,\n",
    "    public=list(\n",
    "        dataTable=NULL,\n",
    "        initialize=function(dataTable) {\n",
    "            self$dataTable <- dataTable\n",
    "        },\n",
    "        somethingElse=function() {\"Hola!\"}\n",
    "    )\n",
    ")\n",
    "\n",
    "dt <- data.table(id=1:10, date=seq(as.Date(\"2015-10-01\"), as.Date(\"2015-10-10\"), \"day\"), somethingElse=21:30)\n",
    "\n",
    "dT2 <- DataTable$new(dt)\n",
    "print(dT2$dataTable)\n",
    "\n",
    "class(dT2)\n",
    "\n",
    "#dt2\n",
    "#typeof(`$`)\n",
    "\n",
    "\"$.DataTableOne\" <- function(dT, name) {\n",
    "    if (name %in% ls(dT)) {\n",
    "        get(name, envir=dT)\n",
    "    } else {\n",
    "        dTcolnames <- colnames(get(\"dataTable\", envir=dT))\n",
    "        if (name %in% dTcolnames) {\n",
    "            get(\"dataTable\", envir = dT)[,name, with=FALSE]\n",
    "        }\n",
    "    }\n",
    "}\n",
    "\n",
    "print(ls(dT2))\n",
    "\n",
    "print(dT2$id)\n",
    "print(dT2$somethingElse)\n",
    "print(dT2$somethingElse())"
   ]
  },
  {
   "cell_type": "markdown",
   "metadata": {},
   "source": [
    "## SOLID"
   ]
  },
  {
   "cell_type": "markdown",
   "metadata": {},
   "source": [
    "### Single responsibility principle"
   ]
  },
  {
   "cell_type": "markdown",
   "metadata": {},
   "source": [
    "### Open/closed principle"
   ]
  },
  {
   "cell_type": "markdown",
   "metadata": {},
   "source": [
    "### Liskov substitution principle"
   ]
  },
  {
   "cell_type": "markdown",
   "metadata": {},
   "source": [
    "### Interface segregation principle"
   ]
  },
  {
   "cell_type": "markdown",
   "metadata": {},
   "source": [
    "### Dependency inversion principle"
   ]
  }
 ],
 "metadata": {
  "kernelspec": {
   "display_name": "R",
   "language": "R",
   "name": "ir"
  },
  "language_info": {
   "codemirror_mode": "r",
   "file_extension": ".r",
   "mimetype": "text/x-r-source",
   "name": "R",
   "pygments_lexer": "r",
   "version": "3.2.2"
  }
 },
 "nbformat": 4,
 "nbformat_minor": 0
}
