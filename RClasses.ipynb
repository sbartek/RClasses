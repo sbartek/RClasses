{
 "cells": [
  {
   "cell_type": "markdown",
   "metadata": {},
   "source": [
    "# Object Oriented Programming in R"
   ]
  },
  {
   "cell_type": "markdown",
   "metadata": {},
   "source": [
    "## Environments as objects\n",
    "\n",
    "Inspired by RC, R6 and _proto_ classes (objects) we present how we can define our own object/class system. \n",
    "\n",
    "We start by defining objects. For that we use standard R environment. "
   ]
  },
  {
   "cell_type": "code",
   "execution_count": 1,
   "metadata": {
    "collapsed": false
   },
   "outputs": [
    {
     "name": "stdout",
     "output_type": "stream",
     "text": [
      "[1] 1\n",
      "[1] 2\n",
      "x :  num 1\n",
      "y :  num 2\n"
     ]
    }
   ],
   "source": [
    "objectCreator = function(vars=list()) {\n",
    "    envir = new.env()\n",
    "    for (vn in names(vars)) {\n",
    "        assign(vn, vars[[vn]], envir = envir)\n",
    "        ## Alternative way\n",
    "        ## env[[vn]] <- vars[[vn]]\n",
    "    }\n",
    "    envir\n",
    "}\n",
    "\n",
    "complexNum <- objectCreator(\n",
    "    vars=list(\n",
    "        x=1, \n",
    "        y=2\n",
    "    )\n",
    ")\n",
    "\n",
    "print(complexNum$x)\n",
    "print(complexNum$y)\n",
    "\n",
    "print(ls.str(complexNum))\n"
   ]
  },
  {
   "cell_type": "markdown",
   "metadata": {},
   "source": [
    "### Adding Methods\n",
    "\n",
    "What we have done so far could be easyly achived by using list. But if we wnat to have methods, is where environment comes handy. Lets try."
   ]
  },
  {
   "cell_type": "code",
   "execution_count": 2,
   "metadata": {
    "collapsed": false
   },
   "outputs": [
    {
     "ename": "ERROR",
     "evalue": "Error in cn$re(): object 'x' not found\n",
     "output_type": "error",
     "traceback": [
      "Error in cn$re(): object 'x' not found\n"
     ]
    },
    {
     "name": "stdout",
     "output_type": "stream",
     "text": [
      "<environment: R_GlobalEnv>\n"
     ]
    }
   ],
   "source": [
    "cn <- objectCreator(\n",
    "    vars=list(\n",
    "        x=1, \n",
    "        y=2,\n",
    "        re=function() {\n",
    "            # This won't work\n",
    "            x\n",
    "        }\n",
    "    )\n",
    ")\n",
    "\n",
    "print(cn$re())"
   ]
  },
  {
   "cell_type": "markdown",
   "metadata": {},
   "source": [
    "The problem is the environment of this function. "
   ]
  },
  {
   "cell_type": "code",
   "execution_count": 10,
   "metadata": {
    "collapsed": false
   },
   "outputs": [
    {
     "name": "stdout",
     "output_type": "stream",
     "text": [
      "<environment: R_GlobalEnv>\n"
     ]
    }
   ],
   "source": [
    "print(environment(cn$re))"
   ]
  },
  {
   "cell_type": "markdown",
   "metadata": {},
   "source": [
    "So let assigin to environment of the function the environment of the object."
   ]
  },
  {
   "cell_type": "code",
   "execution_count": 3,
   "metadata": {
    "collapsed": false
   },
   "outputs": [
    {
     "name": "stdout",
     "output_type": "stream",
     "text": [
      "[1] 1\n"
     ]
    }
   ],
   "source": [
    "objectCreator = function(vars=list()) {\n",
    "    envir = new.env()\n",
    "    for (vn in names(vars)) {\n",
    "        envir[[vn]] <- vars[[vn]]\n",
    "        if (is.function(envir[[vn]])) {\n",
    "          environment(envir[[vn]]) <- envir\n",
    "        }\n",
    "    }\n",
    "    envir\n",
    "}\n",
    "\n",
    "cn <- objectCreator(\n",
    "    vars=list(\n",
    "        x=1, \n",
    "        y=2,\n",
    "        re=function() {\n",
    "            x\n",
    "        }\n",
    "    )\n",
    ")\n",
    "\n",
    "print(cn$re())\n"
   ]
  },
  {
   "cell_type": "markdown",
   "metadata": {},
   "source": [
    "This was a getter. Now time of setting an x. Let's project out complex number to x asis."
   ]
  },
  {
   "cell_type": "code",
   "execution_count": 5,
   "metadata": {
    "collapsed": false
   },
   "outputs": [
    {
     "name": "stdout",
     "output_type": "stream",
     "text": [
      "[1] 2\n"
     ]
    }
   ],
   "source": [
    "cn <- objectCreator(\n",
    "    vars=list(\n",
    "        x=1, \n",
    "        y=2,\n",
    "        projectX=function() {\n",
    "            # This won't work\n",
    "            y <- 0\n",
    "        }\n",
    "    )\n",
    ")\n",
    "\n",
    "cn$projectX()\n",
    "print(cn$y)"
   ]
  },
  {
   "cell_type": "code",
   "execution_count": 8,
   "metadata": {
    "collapsed": false
   },
   "outputs": [
    {
     "name": "stdout",
     "output_type": "stream",
     "text": [
      "<environment: 0x27e62a0>\n",
      "<environment: 0x185f800>\n",
      "<environment: 0x185f800>\n"
     ]
    }
   ],
   "source": [
    "cn <- objectCreator(\n",
    "    vars=list(\n",
    "        x=1, \n",
    "        y=2,\n",
    "        projectX=function() {\n",
    "            # This won't work\n",
    "            y <- 0\n",
    "            environment()\n",
    "        }\n",
    "    )\n",
    ")\n",
    "\n",
    "env <- cn$projectX()\n",
    "print(env)\n",
    "print(parent.env(env))\n",
    "print(cn)"
   ]
  },
  {
   "cell_type": "code",
   "execution_count": 9,
   "metadata": {
    "collapsed": false
   },
   "outputs": [
    {
     "name": "stdout",
     "output_type": "stream",
     "text": [
      "[1] 0\n"
     ]
    }
   ],
   "source": [
    "cn <- objectCreator(\n",
    "    vars=list(\n",
    "        x=1, \n",
    "        y=2,\n",
    "        projectX=function() {\n",
    "            y <<- 0\n",
    "        }\n",
    "    )\n",
    ")\n",
    "cn$projectX()\n",
    "print(cn$y)"
   ]
  },
  {
   "cell_type": "markdown",
   "metadata": {},
   "source": [
    "## Clasess\n",
    "\n",
    "Now it is time for classes. Class is a set of objects that share the same attributes and method. Something like:\n",
    "Class of complex number is a set of _things_ that have an attribute _x_, _y_, and method _re_, _im_ etc......\n",
    "\n",
    "In order to implement it we need two functions. First a _function_ that transform a recipe into a function that later can produce for us objects that agree with this recipe (instances of this class)."
   ]
  },
  {
   "cell_type": "code",
   "execution_count": 18,
   "metadata": {
    "collapsed": true
   },
   "outputs": [],
   "source": [
    "classGenerator <- function(Class) {\n",
    "    function() objectCreator(Class)\n",
    "}"
   ]
  },
  {
   "cell_type": "markdown",
   "metadata": {},
   "source": [
    "And that is it. Let's see it in action."
   ]
  },
  {
   "cell_type": "code",
   "execution_count": 22,
   "metadata": {
    "collapsed": false
   },
   "outputs": [
    {
     "name": "stdout",
     "output_type": "stream",
     "text": [
      "[1] 0\n",
      "[1] 0\n"
     ]
    }
   ],
   "source": [
    "ComplexNumber <- classGenerator(list(\n",
    "    x=0,\n",
    "    y=0,\n",
    "    re=function() x,\n",
    "    im=function() y,\n",
    "    projectX=function() {y <<- 0}\n",
    "))\n",
    "   \n",
    "cn1 <- classGenerator(ComplexNumber)\n",
    "cn2 <- classGenerator(ComplexNumber)\n",
    "print(cn1$x)\n",
    "print(cn2$x)"
   ]
  },
  {
   "cell_type": "markdown",
   "metadata": {},
   "source": [
    "That was a bit silly. "
   ]
  },
  {
   "cell_type": "markdown",
   "metadata": {},
   "source": [
    "## S3 Class"
   ]
  }
 ],
 "metadata": {
  "kernelspec": {
   "display_name": "R",
   "language": "R",
   "name": "ir"
  },
  "language_info": {
   "codemirror_mode": "r",
   "file_extension": ".r",
   "mimetype": "text/x-r-source",
   "name": "R",
   "pygments_lexer": "r",
   "version": "3.2.2"
  }
 },
 "nbformat": 4,
 "nbformat_minor": 0
}
