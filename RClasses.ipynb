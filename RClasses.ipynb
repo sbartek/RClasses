{
 "cells": [
  {
   "cell_type": "markdown",
   "metadata": {},
   "source": [
    "# Object Oriented Programming in R"
   ]
  },
  {
   "cell_type": "markdown",
   "metadata": {},
   "source": [
    "## Environments as objects\n",
    "\n",
    "Inspired by R6 and proto package we present how we can define our own class system. First we define object as environment, next class (a function that generate objects)."
   ]
  },
  {
   "cell_type": "code",
   "execution_count": 40,
   "metadata": {
    "collapsed": false
   },
   "outputs": [
    {
     "name": "stdout",
     "output_type": "stream",
     "text": [
      "[1] 1\n",
      "[1] 2\n",
      "x :  num 1\n",
      "y :  num 2\n"
     ]
    }
   ],
   "source": [
    "objectCreator = function(vars=list()) {\n",
    "    envir = new.env()\n",
    "    for (vn in names(vars)) {\n",
    "        assign(vn, vars[[vn]], envir = envir)\n",
    "        ## Alternative way\n",
    "        ## env[[vn]] <- vars[[vn]]\n",
    "    }\n",
    "    envir\n",
    "}\n",
    "\n",
    "complexNum <- objectCreator(\n",
    "    vars=list(\n",
    "        x=1, \n",
    "        y=2\n",
    "    )\n",
    ")\n",
    "\n",
    "print(complexNum$x)\n",
    "print(complexNum$y)\n",
    "\n",
    "print(ls.str(complexNum))\n"
   ]
  },
  {
   "cell_type": "markdown",
   "metadata": {},
   "source": [
    "### Adding Methods\n",
    "\n",
    "Lets try to add a method."
   ]
  },
  {
   "cell_type": "code",
   "execution_count": 41,
   "metadata": {
    "collapsed": false
   },
   "outputs": [
    {
     "ename": "ERROR",
     "evalue": "Error in cn$re(): object 'x' not found\n",
     "output_type": "error",
     "traceback": [
      "Error in cn$re(): object 'x' not found\n"
     ]
    },
    {
     "name": "stdout",
     "output_type": "stream",
     "text": [
      "<environment: R_GlobalEnv>\n"
     ]
    }
   ],
   "source": [
    "cn <- objectCreator(\n",
    "    vars=list(\n",
    "        x=1, \n",
    "        y=2,\n",
    "        re=function() {\n",
    "            # This won't work\n",
    "            x\n",
    "        }\n",
    "    )\n",
    ")\n",
    "\n",
    "print(cn$re())\n",
    "print(environment(cn$re))"
   ]
  },
  {
   "cell_type": "markdown",
   "metadata": {},
   "source": [
    "The problem is scope of function. So let assigin to environmetn of the function the environment of the object."
   ]
  },
  {
   "cell_type": "code",
   "execution_count": 42,
   "metadata": {
    "collapsed": false
   },
   "outputs": [
    {
     "name": "stdout",
     "output_type": "stream",
     "text": [
      "[1] 1\n"
     ]
    }
   ],
   "source": [
    "objectCreator = function(vars=list()) {\n",
    "    envir = new.env()\n",
    "    for (vn in names(vars)) {\n",
    "        envir[[vn]] <- vars[[vn]]\n",
    "        if (is.function(envir[[vn]])) {\n",
    "          environment(envir[[vn]]) <- envir\n",
    "        }\n",
    "    }\n",
    "    envir\n",
    "}\n",
    "\n",
    "cn <- objectCreator(\n",
    "    vars=list(\n",
    "        x=1, \n",
    "        y=2,\n",
    "        re=function() {\n",
    "            x\n",
    "        }\n",
    "    )\n",
    ")\n",
    "\n",
    "print(cn$re())\n"
   ]
  },
  {
   "cell_type": "markdown",
   "metadata": {},
   "source": [
    "This was a getter. Now time of setting an x. Let's project out complex number to x asis."
   ]
  },
  {
   "cell_type": "code",
   "execution_count": 43,
   "metadata": {
    "collapsed": false
   },
   "outputs": [
    {
     "name": "stdout",
     "output_type": "stream",
     "text": [
      "[1] 2\n"
     ]
    }
   ],
   "source": [
    "cn <- objectCreator(\n",
    "    vars=list(\n",
    "        x=1, \n",
    "        y=2,\n",
    "        projectX=function() {\n",
    "            # This won't work\n",
    "            y <- 0\n",
    "        }\n",
    "    )\n",
    ")\n",
    "\n",
    "\n",
    "print(cn$y)"
   ]
  },
  {
   "cell_type": "code",
   "execution_count": 47,
   "metadata": {
    "collapsed": false
   },
   "outputs": [
    {
     "name": "stdout",
     "output_type": "stream",
     "text": [
      "<environment: 0x282a1c8>\n",
      "NULL\n"
     ]
    }
   ],
   "source": [
    "print(cn)\n"
   ]
  },
  {
   "cell_type": "markdown",
   "metadata": {},
   "source": [
    "## S3 Class"
   ]
  }
 ],
 "metadata": {
  "kernelspec": {
   "display_name": "R",
   "language": "R",
   "name": "ir"
  },
  "language_info": {
   "codemirror_mode": "r",
   "file_extension": ".r",
   "mimetype": "text/x-r-source",
   "name": "R",
   "pygments_lexer": "r",
   "version": "3.2.2"
  }
 },
 "nbformat": 4,
 "nbformat_minor": 0
}
